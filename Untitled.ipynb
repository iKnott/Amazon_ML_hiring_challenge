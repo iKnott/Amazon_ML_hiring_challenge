{
 "cells": [
  {
   "cell_type": "markdown",
   "metadata": {},
   "source": [
    "### Importing the Files for Anaalysis"
   ]
  },
  {
   "cell_type": "code",
   "execution_count": 57,
   "metadata": {},
   "outputs": [],
   "source": [
    "import pandas as pd\n",
    "import seaborn as sns\n",
    "import matplotlib.pyplot as plt\n",
    "import numpy as np\n",
    "from sklearn.linear_model import LogisticRegression\n",
    "from sklearn.model_selection import train_test_split\n",
    "from sklearn import preprocessing\n",
    "from sklearn.preprocessing import StandardScaler \n",
    "from sklearn.metrics import confusion_matrix \n",
    "from sklearn.metrics import accuracy_score "
   ]
  },
  {
   "cell_type": "code",
   "execution_count": 2,
   "metadata": {},
   "outputs": [],
   "source": [
    "test_data = pd.read_csv(\"//Users//iknott//Desktop//Hiring//data//test.csv\")\n",
    "train_data = pd.read_csv(\"//Users//iknott//Desktop//Hiring//data//train.csv\")"
   ]
  },
  {
   "cell_type": "markdown",
   "metadata": {},
   "source": [
    "### Describing the datas"
   ]
  },
  {
   "cell_type": "code",
   "execution_count": 3,
   "metadata": {},
   "outputs": [
    {
     "data": {
      "text/html": [
       "<div>\n",
       "<style scoped>\n",
       "    .dataframe tbody tr th:only-of-type {\n",
       "        vertical-align: middle;\n",
       "    }\n",
       "\n",
       "    .dataframe tbody tr th {\n",
       "        vertical-align: top;\n",
       "    }\n",
       "\n",
       "    .dataframe thead th {\n",
       "        text-align: right;\n",
       "    }\n",
       "</style>\n",
       "<table border=\"1\" class=\"dataframe\">\n",
       "  <thead>\n",
       "    <tr style=\"text-align: right;\">\n",
       "      <th></th>\n",
       "      <th>customer_visit_score</th>\n",
       "      <th>customer_product_search_score</th>\n",
       "      <th>customer_ctr_score</th>\n",
       "      <th>customer_stay_score</th>\n",
       "      <th>customer_frequency_score</th>\n",
       "      <th>customer_product_variation_score</th>\n",
       "      <th>customer_order_score</th>\n",
       "      <th>customer_affinity_score</th>\n",
       "      <th>customer_category</th>\n",
       "    </tr>\n",
       "  </thead>\n",
       "  <tbody>\n",
       "    <tr>\n",
       "      <th>count</th>\n",
       "      <td>10738.000000</td>\n",
       "      <td>10696.000000</td>\n",
       "      <td>10738.000000</td>\n",
       "      <td>10701.000000</td>\n",
       "      <td>10738.000000</td>\n",
       "      <td>10692.000000</td>\n",
       "      <td>10672.000000</td>\n",
       "      <td>10738.000000</td>\n",
       "      <td>10738.000000</td>\n",
       "    </tr>\n",
       "    <tr>\n",
       "      <th>mean</th>\n",
       "      <td>19.060941</td>\n",
       "      <td>5.274847</td>\n",
       "      <td>0.175912</td>\n",
       "      <td>0.374230</td>\n",
       "      <td>2.376895</td>\n",
       "      <td>5.788180</td>\n",
       "      <td>3.150071</td>\n",
       "      <td>17.061836</td>\n",
       "      <td>0.120600</td>\n",
       "    </tr>\n",
       "    <tr>\n",
       "      <th>std</th>\n",
       "      <td>7.419609</td>\n",
       "      <td>1.882559</td>\n",
       "      <td>0.372829</td>\n",
       "      <td>1.222031</td>\n",
       "      <td>5.601911</td>\n",
       "      <td>2.531309</td>\n",
       "      <td>1.035416</td>\n",
       "      <td>18.762693</td>\n",
       "      <td>0.325677</td>\n",
       "    </tr>\n",
       "    <tr>\n",
       "      <th>min</th>\n",
       "      <td>0.568965</td>\n",
       "      <td>-0.161940</td>\n",
       "      <td>-0.547989</td>\n",
       "      <td>-0.462494</td>\n",
       "      <td>0.028575</td>\n",
       "      <td>2.752836</td>\n",
       "      <td>0.363338</td>\n",
       "      <td>-0.486834</td>\n",
       "      <td>0.000000</td>\n",
       "    </tr>\n",
       "    <tr>\n",
       "      <th>25%</th>\n",
       "      <td>13.518021</td>\n",
       "      <td>3.971587</td>\n",
       "      <td>0.010840</td>\n",
       "      <td>-0.027666</td>\n",
       "      <td>0.313610</td>\n",
       "      <td>4.193234</td>\n",
       "      <td>2.454017</td>\n",
       "      <td>4.530085</td>\n",
       "      <td>0.000000</td>\n",
       "    </tr>\n",
       "    <tr>\n",
       "      <th>50%</th>\n",
       "      <td>18.774109</td>\n",
       "      <td>5.218479</td>\n",
       "      <td>0.074078</td>\n",
       "      <td>0.037201</td>\n",
       "      <td>0.516830</td>\n",
       "      <td>4.842575</td>\n",
       "      <td>3.118394</td>\n",
       "      <td>12.653357</td>\n",
       "      <td>0.000000</td>\n",
       "    </tr>\n",
       "    <tr>\n",
       "      <th>75%</th>\n",
       "      <td>24.501719</td>\n",
       "      <td>6.520364</td>\n",
       "      <td>0.159606</td>\n",
       "      <td>0.179029</td>\n",
       "      <td>1.125380</td>\n",
       "      <td>6.286400</td>\n",
       "      <td>3.756566</td>\n",
       "      <td>23.114577</td>\n",
       "      <td>0.000000</td>\n",
       "    </tr>\n",
       "    <tr>\n",
       "      <th>max</th>\n",
       "      <td>47.306691</td>\n",
       "      <td>16.638243</td>\n",
       "      <td>2.679474</td>\n",
       "      <td>14.701914</td>\n",
       "      <td>52.395014</td>\n",
       "      <td>18.743836</td>\n",
       "      <td>9.090206</td>\n",
       "      <td>248.552755</td>\n",
       "      <td>1.000000</td>\n",
       "    </tr>\n",
       "  </tbody>\n",
       "</table>\n",
       "</div>"
      ],
      "text/plain": [
       "       customer_visit_score  customer_product_search_score  \\\n",
       "count          10738.000000                   10696.000000   \n",
       "mean              19.060941                       5.274847   \n",
       "std                7.419609                       1.882559   \n",
       "min                0.568965                      -0.161940   \n",
       "25%               13.518021                       3.971587   \n",
       "50%               18.774109                       5.218479   \n",
       "75%               24.501719                       6.520364   \n",
       "max               47.306691                      16.638243   \n",
       "\n",
       "       customer_ctr_score  customer_stay_score  customer_frequency_score  \\\n",
       "count        10738.000000         10701.000000              10738.000000   \n",
       "mean             0.175912             0.374230                  2.376895   \n",
       "std              0.372829             1.222031                  5.601911   \n",
       "min             -0.547989            -0.462494                  0.028575   \n",
       "25%              0.010840            -0.027666                  0.313610   \n",
       "50%              0.074078             0.037201                  0.516830   \n",
       "75%              0.159606             0.179029                  1.125380   \n",
       "max              2.679474            14.701914                 52.395014   \n",
       "\n",
       "       customer_product_variation_score  customer_order_score  \\\n",
       "count                      10692.000000          10672.000000   \n",
       "mean                           5.788180              3.150071   \n",
       "std                            2.531309              1.035416   \n",
       "min                            2.752836              0.363338   \n",
       "25%                            4.193234              2.454017   \n",
       "50%                            4.842575              3.118394   \n",
       "75%                            6.286400              3.756566   \n",
       "max                           18.743836              9.090206   \n",
       "\n",
       "       customer_affinity_score  customer_category  \n",
       "count             10738.000000       10738.000000  \n",
       "mean                 17.061836           0.120600  \n",
       "std                  18.762693           0.325677  \n",
       "min                  -0.486834           0.000000  \n",
       "25%                   4.530085           0.000000  \n",
       "50%                  12.653357           0.000000  \n",
       "75%                  23.114577           0.000000  \n",
       "max                 248.552755           1.000000  "
      ]
     },
     "execution_count": 3,
     "metadata": {},
     "output_type": "execute_result"
    }
   ],
   "source": [
    "train_data.describe()"
   ]
  },
  {
   "cell_type": "markdown",
   "metadata": {},
   "source": [
    "### Checking for null Values"
   ]
  },
  {
   "cell_type": "code",
   "execution_count": 33,
   "metadata": {},
   "outputs": [
    {
     "data": {
      "text/plain": [
       "customer_id                         0\n",
       "customer_visit_score                0\n",
       "customer_product_search_score       0\n",
       "customer_ctr_score                  0\n",
       "customer_stay_score                 0\n",
       "customer_frequency_score            0\n",
       "customer_product_variation_score    0\n",
       "customer_order_score                0\n",
       "customer_affinity_score             0\n",
       "customer_category                   0\n",
       "dtype: int64"
      ]
     },
     "execution_count": 33,
     "metadata": {},
     "output_type": "execute_result"
    }
   ],
   "source": [
    "train_data.isnull().sum()"
   ]
  },
  {
   "cell_type": "markdown",
   "metadata": {},
   "source": [
    "### Checking the first 5 data"
   ]
  },
  {
   "cell_type": "code",
   "execution_count": 7,
   "metadata": {},
   "outputs": [
    {
     "data": {
      "text/html": [
       "<div>\n",
       "<style scoped>\n",
       "    .dataframe tbody tr th:only-of-type {\n",
       "        vertical-align: middle;\n",
       "    }\n",
       "\n",
       "    .dataframe tbody tr th {\n",
       "        vertical-align: top;\n",
       "    }\n",
       "\n",
       "    .dataframe thead th {\n",
       "        text-align: right;\n",
       "    }\n",
       "</style>\n",
       "<table border=\"1\" class=\"dataframe\">\n",
       "  <thead>\n",
       "    <tr style=\"text-align: right;\">\n",
       "      <th></th>\n",
       "      <th>customer_id</th>\n",
       "      <th>customer_visit_score</th>\n",
       "      <th>customer_product_search_score</th>\n",
       "      <th>customer_ctr_score</th>\n",
       "      <th>customer_stay_score</th>\n",
       "      <th>customer_frequency_score</th>\n",
       "      <th>customer_product_variation_score</th>\n",
       "      <th>customer_order_score</th>\n",
       "      <th>customer_affinity_score</th>\n",
       "      <th>customer_active_segment</th>\n",
       "      <th>X1</th>\n",
       "      <th>customer_category</th>\n",
       "    </tr>\n",
       "  </thead>\n",
       "  <tbody>\n",
       "    <tr>\n",
       "      <th>0</th>\n",
       "      <td>csid_1</td>\n",
       "      <td>13.168425</td>\n",
       "      <td>9.447662</td>\n",
       "      <td>-0.070203</td>\n",
       "      <td>-0.139541</td>\n",
       "      <td>0.436956</td>\n",
       "      <td>4.705761</td>\n",
       "      <td>2.537985</td>\n",
       "      <td>7.959503</td>\n",
       "      <td>C</td>\n",
       "      <td>F</td>\n",
       "      <td>0</td>\n",
       "    </tr>\n",
       "    <tr>\n",
       "      <th>1</th>\n",
       "      <td>csid_2</td>\n",
       "      <td>17.092979</td>\n",
       "      <td>7.329056</td>\n",
       "      <td>0.153298</td>\n",
       "      <td>-0.102726</td>\n",
       "      <td>0.380340</td>\n",
       "      <td>4.205138</td>\n",
       "      <td>4.193444</td>\n",
       "      <td>17.517381</td>\n",
       "      <td>C</td>\n",
       "      <td>A</td>\n",
       "      <td>0</td>\n",
       "    </tr>\n",
       "    <tr>\n",
       "      <th>2</th>\n",
       "      <td>csid_3</td>\n",
       "      <td>17.505334</td>\n",
       "      <td>5.143676</td>\n",
       "      <td>0.106709</td>\n",
       "      <td>0.262834</td>\n",
       "      <td>0.417648</td>\n",
       "      <td>4.479070</td>\n",
       "      <td>3.878971</td>\n",
       "      <td>12.595155</td>\n",
       "      <td>C</td>\n",
       "      <td>BA</td>\n",
       "      <td>0</td>\n",
       "    </tr>\n",
       "  </tbody>\n",
       "</table>\n",
       "</div>"
      ],
      "text/plain": [
       "  customer_id  customer_visit_score  customer_product_search_score  \\\n",
       "0      csid_1             13.168425                       9.447662   \n",
       "1      csid_2             17.092979                       7.329056   \n",
       "2      csid_3             17.505334                       5.143676   \n",
       "\n",
       "   customer_ctr_score  customer_stay_score  customer_frequency_score  \\\n",
       "0           -0.070203            -0.139541                  0.436956   \n",
       "1            0.153298            -0.102726                  0.380340   \n",
       "2            0.106709             0.262834                  0.417648   \n",
       "\n",
       "   customer_product_variation_score  customer_order_score  \\\n",
       "0                          4.705761              2.537985   \n",
       "1                          4.205138              4.193444   \n",
       "2                          4.479070              3.878971   \n",
       "\n",
       "   customer_affinity_score customer_active_segment  X1  customer_category  \n",
       "0                 7.959503                       C   F                  0  \n",
       "1                17.517381                       C   A                  0  \n",
       "2                12.595155                       C  BA                  0  "
      ]
     },
     "execution_count": 7,
     "metadata": {},
     "output_type": "execute_result"
    }
   ],
   "source": [
    "train_data.head(3)"
   ]
  },
  {
   "cell_type": "markdown",
   "metadata": {},
   "source": [
    "### checking total number of customer Category"
   ]
  },
  {
   "cell_type": "code",
   "execution_count": 12,
   "metadata": {},
   "outputs": [
    {
     "data": {
      "text/plain": [
       "0    9443\n",
       "1    1295\n",
       "Name: customer_category, dtype: int64"
      ]
     },
     "execution_count": 12,
     "metadata": {},
     "output_type": "execute_result"
    }
   ],
   "source": [
    "train_data.customer_category.value_counts()"
   ]
  },
  {
   "cell_type": "markdown",
   "metadata": {},
   "source": [
    "### plotting boxplot"
   ]
  },
  {
   "cell_type": "code",
   "execution_count": 16,
   "metadata": {},
   "outputs": [
    {
     "data": {
      "text/plain": [
       "<matplotlib.axes._subplots.AxesSubplot at 0x7ff1f3e04750>"
      ]
     },
     "execution_count": 16,
     "metadata": {},
     "output_type": "execute_result"
    },
    {
     "data": {
      "image/png": "[encoded data removed]",
      "text/plain": [
       "<Figure size 576x144 with 1 Axes>"
      ]
     },
     "metadata": {
      "needs_background": "light"
     },
     "output_type": "display_data"
    }
   ],
   "source": [
    "plt.figure(figsize = [8,2])\n",
    "sns.boxplot(train_data.customer_product_search_score)"
   ]
  },
  {
   "cell_type": "code",
   "execution_count": 18,
   "metadata": {},
   "outputs": [
    {
     "data": {
      "text/plain": [
       "<matplotlib.axes._subplots.AxesSubplot at 0x7ff1f5791d50>"
      ]
     },
     "execution_count": 18,
     "metadata": {},
     "output_type": "execute_result"
    },
    {
     "data": {
      "image/png": "[encoded data removed]",
      "text/plain": [
       "<Figure size 576x144 with 1 Axes>"
      ]
     },
     "metadata": {
      "needs_background": "light"
     },
     "output_type": "display_data"
    }
   ],
   "source": [
    "plt.figure(figsize = [8,2])\n",
    "sns.boxplot(train_data.customer_stay_score)"
   ]
  },
  {
   "cell_type": "code",
   "execution_count": 19,
   "metadata": {},
   "outputs": [
    {
     "data": {
      "text/plain": [
       "<matplotlib.axes._subplots.AxesSubplot at 0x7ff1f9976550>"
      ]
     },
     "execution_count": 19,
     "metadata": {},
     "output_type": "execute_result"
    },
    {
     "data": {
      "image/png": "[encoded data removed]",
      "text/plain": [
       "<Figure size 576x144 with 1 Axes>"
      ]
     },
     "metadata": {
      "needs_background": "light"
     },
     "output_type": "display_data"
    }
   ],
   "source": [
    "plt.figure(figsize = [8,2])\n",
    "sns.boxplot(train_data.customer_product_variation_score)"
   ]
  },
  {
   "cell_type": "code",
   "execution_count": 20,
   "metadata": {},
   "outputs": [
    {
     "data": {
      "text/plain": [
       "<matplotlib.axes._subplots.AxesSubplot at 0x7ff1f8826890>"
      ]
     },
     "execution_count": 20,
     "metadata": {},
     "output_type": "execute_result"
    },
    {
     "data": {
      "image/png": "[encoded data removed]",
      "text/plain": [
       "<Figure size 576x144 with 1 Axes>"
      ]
     },
     "metadata": {
      "needs_background": "light"
     },
     "output_type": "display_data"
    }
   ],
   "source": [
    "plt.figure(figsize = [8,2])\n",
    "sns.boxplot(train_data.customer_order_score)"
   ]
  },
  {
   "cell_type": "code",
   "execution_count": 26,
   "metadata": {},
   "outputs": [
    {
     "data": {
      "text/plain": [
       "-0.16193998183198755"
      ]
     },
     "execution_count": 26,
     "metadata": {},
     "output_type": "execute_result"
    }
   ],
   "source": [
    "train_data.customer_product_search_score.mode()[0]"
   ]
  },
  {
   "cell_type": "markdown",
   "metadata": {},
   "source": [
    "### filling the missing data"
   ]
  },
  {
   "cell_type": "code",
   "execution_count": 28,
   "metadata": {},
   "outputs": [],
   "source": [
    "train_data.customer_product_search_score.fillna(train_data.customer_product_search_score.mode()[0], inplace =True)\n",
    "train_data.customer_stay_score.fillna(0,inplace = True)\n",
    "train_data.customer_product_variation_score.fillna(train_data.customer_product_variation_score.mode()[0], inplace =True)\n",
    "train_data.customer_order_score.fillna(train_data.customer_order_score.mode()[0], inplace =True)"
   ]
  },
  {
   "cell_type": "code",
   "execution_count": 30,
   "metadata": {},
   "outputs": [],
   "source": [
    "train_data.drop(\"customer_active_segment\",axis =1, inplace =True)\n",
    "train_data.drop(\"X1\",axis =1, inplace =True)"
   ]
  },
  {
   "cell_type": "markdown",
   "metadata": {},
   "source": [
    "### Dataset after Processing"
   ]
  },
  {
   "cell_type": "code",
   "execution_count": 31,
   "metadata": {},
   "outputs": [
    {
     "data": {
      "text/html": [
       "<div>\n",
       "<style scoped>\n",
       "    .dataframe tbody tr th:only-of-type {\n",
       "        vertical-align: middle;\n",
       "    }\n",
       "\n",
       "    .dataframe tbody tr th {\n",
       "        vertical-align: top;\n",
       "    }\n",
       "\n",
       "    .dataframe thead th {\n",
       "        text-align: right;\n",
       "    }\n",
       "</style>\n",
       "<table border=\"1\" class=\"dataframe\">\n",
       "  <thead>\n",
       "    <tr style=\"text-align: right;\">\n",
       "      <th></th>\n",
       "      <th>customer_id</th>\n",
       "      <th>customer_visit_score</th>\n",
       "      <th>customer_product_search_score</th>\n",
       "      <th>customer_ctr_score</th>\n",
       "      <th>customer_stay_score</th>\n",
       "      <th>customer_frequency_score</th>\n",
       "      <th>customer_product_variation_score</th>\n",
       "      <th>customer_order_score</th>\n",
       "      <th>customer_affinity_score</th>\n",
       "      <th>customer_category</th>\n",
       "    </tr>\n",
       "  </thead>\n",
       "  <tbody>\n",
       "    <tr>\n",
       "      <th>0</th>\n",
       "      <td>csid_1</td>\n",
       "      <td>13.168425</td>\n",
       "      <td>9.447662</td>\n",
       "      <td>-0.070203</td>\n",
       "      <td>-0.139541</td>\n",
       "      <td>0.436956</td>\n",
       "      <td>4.705761</td>\n",
       "      <td>2.537985</td>\n",
       "      <td>7.959503</td>\n",
       "      <td>0</td>\n",
       "    </tr>\n",
       "    <tr>\n",
       "      <th>1</th>\n",
       "      <td>csid_2</td>\n",
       "      <td>17.092979</td>\n",
       "      <td>7.329056</td>\n",
       "      <td>0.153298</td>\n",
       "      <td>-0.102726</td>\n",
       "      <td>0.380340</td>\n",
       "      <td>4.205138</td>\n",
       "      <td>4.193444</td>\n",
       "      <td>17.517381</td>\n",
       "      <td>0</td>\n",
       "    </tr>\n",
       "    <tr>\n",
       "      <th>2</th>\n",
       "      <td>csid_3</td>\n",
       "      <td>17.505334</td>\n",
       "      <td>5.143676</td>\n",
       "      <td>0.106709</td>\n",
       "      <td>0.262834</td>\n",
       "      <td>0.417648</td>\n",
       "      <td>4.479070</td>\n",
       "      <td>3.878971</td>\n",
       "      <td>12.595155</td>\n",
       "      <td>0</td>\n",
       "    </tr>\n",
       "    <tr>\n",
       "      <th>3</th>\n",
       "      <td>csid_4</td>\n",
       "      <td>31.423381</td>\n",
       "      <td>4.917740</td>\n",
       "      <td>-0.020226</td>\n",
       "      <td>-0.100526</td>\n",
       "      <td>0.778130</td>\n",
       "      <td>5.055535</td>\n",
       "      <td>2.708940</td>\n",
       "      <td>4.795073</td>\n",
       "      <td>0</td>\n",
       "    </tr>\n",
       "    <tr>\n",
       "      <th>4</th>\n",
       "      <td>csid_5</td>\n",
       "      <td>11.909502</td>\n",
       "      <td>4.237073</td>\n",
       "      <td>0.187178</td>\n",
       "      <td>0.172891</td>\n",
       "      <td>0.162067</td>\n",
       "      <td>3.445247</td>\n",
       "      <td>3.677360</td>\n",
       "      <td>56.636326</td>\n",
       "      <td>0</td>\n",
       "    </tr>\n",
       "  </tbody>\n",
       "</table>\n",
       "</div>"
      ],
      "text/plain": [
       "  customer_id  customer_visit_score  customer_product_search_score  \\\n",
       "0      csid_1             13.168425                       9.447662   \n",
       "1      csid_2             17.092979                       7.329056   \n",
       "2      csid_3             17.505334                       5.143676   \n",
       "3      csid_4             31.423381                       4.917740   \n",
       "4      csid_5             11.909502                       4.237073   \n",
       "\n",
       "   customer_ctr_score  customer_stay_score  customer_frequency_score  \\\n",
       "0           -0.070203            -0.139541                  0.436956   \n",
       "1            0.153298            -0.102726                  0.380340   \n",
       "2            0.106709             0.262834                  0.417648   \n",
       "3           -0.020226            -0.100526                  0.778130   \n",
       "4            0.187178             0.172891                  0.162067   \n",
       "\n",
       "   customer_product_variation_score  customer_order_score  \\\n",
       "0                          4.705761              2.537985   \n",
       "1                          4.205138              4.193444   \n",
       "2                          4.479070              3.878971   \n",
       "3                          5.055535              2.708940   \n",
       "4                          3.445247              3.677360   \n",
       "\n",
       "   customer_affinity_score  customer_category  \n",
       "0                 7.959503                  0  \n",
       "1                17.517381                  0  \n",
       "2                12.595155                  0  \n",
       "3                 4.795073                  0  \n",
       "4                56.636326                  0  "
      ]
     },
     "execution_count": 31,
     "metadata": {},
     "output_type": "execute_result"
    }
   ],
   "source": [
    "train_data.head(5)"
   ]
  },
  {
   "cell_type": "markdown",
   "metadata": {},
   "source": [
    "###  Preparing for Logistic Regression relations"
   ]
  },
  {
   "cell_type": "code",
   "execution_count": 39,
   "metadata": {},
   "outputs": [
    {
     "data": {
      "text/plain": [
       "(10738, 10)"
      ]
     },
     "execution_count": 39,
     "metadata": {},
     "output_type": "execute_result"
    }
   ],
   "source": [
    "train_data.shape"
   ]
  },
  {
   "cell_type": "code",
   "execution_count": 41,
   "metadata": {},
   "outputs": [
    {
     "data": {
      "text/plain": [
       "0    9443\n",
       "1    1295\n",
       "Name: customer_category, dtype: int64"
      ]
     },
     "execution_count": 41,
     "metadata": {},
     "output_type": "execute_result"
    }
   ],
   "source": [
    "train_data['customer_category'].value_counts()"
   ]
  },
  {
   "cell_type": "code",
   "execution_count": 42,
   "metadata": {},
   "outputs": [
    {
     "data": {
      "text/html": [
       "<div>\n",
       "<style scoped>\n",
       "    .dataframe tbody tr th:only-of-type {\n",
       "        vertical-align: middle;\n",
       "    }\n",
       "\n",
       "    .dataframe tbody tr th {\n",
       "        vertical-align: top;\n",
       "    }\n",
       "\n",
       "    .dataframe thead th {\n",
       "        text-align: right;\n",
       "    }\n",
       "</style>\n",
       "<table border=\"1\" class=\"dataframe\">\n",
       "  <thead>\n",
       "    <tr style=\"text-align: right;\">\n",
       "      <th></th>\n",
       "      <th>customer_visit_score</th>\n",
       "      <th>customer_product_search_score</th>\n",
       "      <th>customer_ctr_score</th>\n",
       "      <th>customer_stay_score</th>\n",
       "      <th>customer_frequency_score</th>\n",
       "      <th>customer_product_variation_score</th>\n",
       "      <th>customer_order_score</th>\n",
       "      <th>customer_affinity_score</th>\n",
       "    </tr>\n",
       "    <tr>\n",
       "      <th>customer_category</th>\n",
       "      <th></th>\n",
       "      <th></th>\n",
       "      <th></th>\n",
       "      <th></th>\n",
       "      <th></th>\n",
       "      <th></th>\n",
       "      <th></th>\n",
       "      <th></th>\n",
       "    </tr>\n",
       "  </thead>\n",
       "  <tbody>\n",
       "    <tr>\n",
       "      <th>0</th>\n",
       "      <td>20.296374</td>\n",
       "      <td>5.461454</td>\n",
       "      <td>0.066231</td>\n",
       "      <td>0.066647</td>\n",
       "      <td>1.568982</td>\n",
       "      <td>5.314361</td>\n",
       "      <td>3.279276</td>\n",
       "      <td>18.966293</td>\n",
       "    </tr>\n",
       "    <tr>\n",
       "      <th>1</th>\n",
       "      <td>10.052302</td>\n",
       "      <td>3.737800</td>\n",
       "      <td>0.975697</td>\n",
       "      <td>2.606402</td>\n",
       "      <td>8.268110</td>\n",
       "      <td>9.135394</td>\n",
       "      <td>2.065895</td>\n",
       "      <td>3.174739</td>\n",
       "    </tr>\n",
       "  </tbody>\n",
       "</table>\n",
       "</div>"
      ],
      "text/plain": [
       "                   customer_visit_score  customer_product_search_score  \\\n",
       "customer_category                                                        \n",
       "0                             20.296374                       5.461454   \n",
       "1                             10.052302                       3.737800   \n",
       "\n",
       "                   customer_ctr_score  customer_stay_score  \\\n",
       "customer_category                                            \n",
       "0                            0.066231             0.066647   \n",
       "1                            0.975697             2.606402   \n",
       "\n",
       "                   customer_frequency_score  customer_product_variation_score  \\\n",
       "customer_category                                                               \n",
       "0                                  1.568982                          5.314361   \n",
       "1                                  8.268110                          9.135394   \n",
       "\n",
       "                   customer_order_score  customer_affinity_score  \n",
       "customer_category                                                 \n",
       "0                              3.279276                18.966293  \n",
       "1                              2.065895                 3.174739  "
      ]
     },
     "execution_count": 42,
     "metadata": {},
     "output_type": "execute_result"
    }
   ],
   "source": [
    "train_data.groupby('customer_category').mean()"
   ]
  },
  {
   "cell_type": "code",
   "execution_count": 44,
   "metadata": {},
   "outputs": [],
   "source": [
    "X, y = train_data.iloc[:,1:8],train_data.iloc[:,9]"
   ]
  },
  {
   "cell_type": "code",
   "execution_count": 50,
   "metadata": {},
   "outputs": [],
   "source": [
    "xtrain, xtest, ytrain, ytest = train_test_split(X, y, test_size=0.2, random_state=121)"
   ]
  },
  {
   "cell_type": "code",
   "execution_count": 51,
   "metadata": {},
   "outputs": [],
   "source": [
    "sc_x = StandardScaler() \n",
    "xtrain = sc_x.fit_transform(X_train)  \n",
    "xtest = sc_x.transform(X_test)"
   ]
  },
  {
   "cell_type": "code",
   "execution_count": 52,
   "metadata": {},
   "outputs": [
    {
     "data": {
      "text/plain": [
       "array([[ 1.88780223,  0.29429487, -0.65726882, -0.35533548, -0.39229184,\n",
       "        -0.50104313,  1.30318409],\n",
       "       [-0.23667634,  0.72169164, -0.02451167, -0.23705701, -0.39252375,\n",
       "        -0.92229288,  2.46029583],\n",
       "       [ 0.28864898,  1.14533069, -0.55776835, -0.35937299, -0.30857049,\n",
       "        -0.84671462,  0.23197781],\n",
       "       [-0.44033615,  0.70962579, -0.28431513, -0.35766247,  0.25498183,\n",
       "         0.94269858, -0.671236  ],\n",
       "       [-0.25289735, -0.29884519, -0.45143163, -0.34267097, -0.33597147,\n",
       "        -0.58283181,  0.669285  ]])"
      ]
     },
     "execution_count": 52,
     "metadata": {},
     "output_type": "execute_result"
    }
   ],
   "source": [
    "xtrain[0:5, :]"
   ]
  },
  {
   "cell_type": "markdown",
   "metadata": {},
   "source": [
    "### Trainning our model"
   ]
  },
  {
   "cell_type": "code",
   "execution_count": 53,
   "metadata": {},
   "outputs": [
    {
     "data": {
      "text/plain": [
       "LogisticRegression(C=1.0, class_weight=None, dual=False, fit_intercept=True,\n",
       "                   intercept_scaling=1, l1_ratio=None, max_iter=100,\n",
       "                   multi_class='auto', n_jobs=None, penalty='l2',\n",
       "                   random_state=121, solver='lbfgs', tol=0.0001, verbose=0,\n",
       "                   warm_start=False)"
      ]
     },
     "execution_count": 53,
     "metadata": {},
     "output_type": "execute_result"
    }
   ],
   "source": [
    "classifier = LogisticRegression(random_state = 121) \n",
    "classifier.fit(xtrain, ytrain) "
   ]
  },
  {
   "cell_type": "code",
   "execution_count": 54,
   "metadata": {},
   "outputs": [],
   "source": [
    "y_pred = classifier.predict(xtest)"
   ]
  },
  {
   "cell_type": "markdown",
   "metadata": {},
   "source": [
    "### Lets Analyse the Confusion Matrix"
   ]
  },
  {
   "cell_type": "code",
   "execution_count": 56,
   "metadata": {},
   "outputs": [
    {
     "data": {
      "text/plain": [
       "array([[1893,   15],\n",
       "       [  34,  206]])"
      ]
     },
     "execution_count": 56,
     "metadata": {},
     "output_type": "execute_result"
    }
   ],
   "source": [
    "cm = confusion_matrix(ytest, y_pred)   \n",
    "cm"
   ]
  },
  {
   "cell_type": "markdown",
   "metadata": {},
   "source": [
    "### Analyse the Accuracy"
   ]
  },
  {
   "cell_type": "code",
   "execution_count": 79,
   "metadata": {},
   "outputs": [
    {
     "name": "stdout",
     "output_type": "stream",
     "text": [
      "Accuracy :  0.9771880819366853\n"
     ]
    }
   ],
   "source": [
    "print (\"Accuracy : \", accuracy_score(ytest, y_pred)) "
   ]
  },
  {
   "cell_type": "markdown",
   "metadata": {},
   "source": [
    "## Implementing the model"
   ]
  },
  {
   "cell_type": "code",
   "execution_count": 61,
   "metadata": {},
   "outputs": [
    {
     "data": {
      "text/html": [
       "<div>\n",
       "<style scoped>\n",
       "    .dataframe tbody tr th:only-of-type {\n",
       "        vertical-align: middle;\n",
       "    }\n",
       "\n",
       "    .dataframe tbody tr th {\n",
       "        vertical-align: top;\n",
       "    }\n",
       "\n",
       "    .dataframe thead th {\n",
       "        text-align: right;\n",
       "    }\n",
       "</style>\n",
       "<table border=\"1\" class=\"dataframe\">\n",
       "  <thead>\n",
       "    <tr style=\"text-align: right;\">\n",
       "      <th></th>\n",
       "      <th>customer_id</th>\n",
       "      <th>customer_visit_score</th>\n",
       "      <th>customer_product_search_score</th>\n",
       "      <th>customer_ctr_score</th>\n",
       "      <th>customer_stay_score</th>\n",
       "      <th>customer_frequency_score</th>\n",
       "      <th>customer_product_variation_score</th>\n",
       "      <th>customer_order_score</th>\n",
       "      <th>customer_affinity_score</th>\n",
       "    </tr>\n",
       "  </thead>\n",
       "  <tbody>\n",
       "    <tr>\n",
       "      <th>0</th>\n",
       "      <td>csid_10739</td>\n",
       "      <td>22.500174</td>\n",
       "      <td>3.702145</td>\n",
       "      <td>0.118811</td>\n",
       "      <td>0.093253</td>\n",
       "      <td>0.689237</td>\n",
       "      <td>5.786842</td>\n",
       "      <td>3.748009</td>\n",
       "      <td>7.661716</td>\n",
       "    </tr>\n",
       "    <tr>\n",
       "      <th>1</th>\n",
       "      <td>csid_10740</td>\n",
       "      <td>13.225950</td>\n",
       "      <td>3.600102</td>\n",
       "      <td>0.130985</td>\n",
       "      <td>0.053575</td>\n",
       "      <td>0.142756</td>\n",
       "      <td>3.940359</td>\n",
       "      <td>3.469659</td>\n",
       "      <td>33.999679</td>\n",
       "    </tr>\n",
       "    <tr>\n",
       "      <th>2</th>\n",
       "      <td>csid_10741</td>\n",
       "      <td>14.603376</td>\n",
       "      <td>5.084047</td>\n",
       "      <td>-0.004651</td>\n",
       "      <td>-0.036299</td>\n",
       "      <td>0.333709</td>\n",
       "      <td>4.254662</td>\n",
       "      <td>3.855939</td>\n",
       "      <td>33.485630</td>\n",
       "    </tr>\n",
       "  </tbody>\n",
       "</table>\n",
       "</div>"
      ],
      "text/plain": [
       "  customer_id  customer_visit_score  customer_product_search_score  \\\n",
       "0  csid_10739             22.500174                       3.702145   \n",
       "1  csid_10740             13.225950                       3.600102   \n",
       "2  csid_10741             14.603376                       5.084047   \n",
       "\n",
       "   customer_ctr_score  customer_stay_score  customer_frequency_score  \\\n",
       "0            0.118811             0.093253                  0.689237   \n",
       "1            0.130985             0.053575                  0.142756   \n",
       "2           -0.004651            -0.036299                  0.333709   \n",
       "\n",
       "   customer_product_variation_score  customer_order_score  \\\n",
       "0                          5.786842              3.748009   \n",
       "1                          3.940359              3.469659   \n",
       "2                          4.254662              3.855939   \n",
       "\n",
       "   customer_affinity_score  \n",
       "0                 7.661716  \n",
       "1                33.999679  \n",
       "2                33.485630  "
      ]
     },
     "execution_count": 61,
     "metadata": {},
     "output_type": "execute_result"
    }
   ],
   "source": [
    "test_data.head(3)"
   ]
  },
  {
   "cell_type": "code",
   "execution_count": 60,
   "metadata": {},
   "outputs": [],
   "source": [
    "test_data.drop(\"customer_active_segment\",axis =1, inplace =True)\n",
    "test_data.drop(\"X1\",axis =1, inplace =True)"
   ]
  },
  {
   "cell_type": "code",
   "execution_count": 65,
   "metadata": {},
   "outputs": [
    {
     "data": {
      "text/plain": [
       "customer_id                         0\n",
       "customer_visit_score                0\n",
       "customer_product_search_score       0\n",
       "customer_ctr_score                  0\n",
       "customer_stay_score                 0\n",
       "customer_frequency_score            0\n",
       "customer_product_variation_score    0\n",
       "customer_order_score                0\n",
       "customer_affinity_score             0\n",
       "dtype: int64"
      ]
     },
     "execution_count": 65,
     "metadata": {},
     "output_type": "execute_result"
    }
   ],
   "source": [
    "test_data.isnull().sum()"
   ]
  },
  {
   "cell_type": "code",
   "execution_count": 64,
   "metadata": {},
   "outputs": [],
   "source": [
    "test_data.customer_product_search_score.fillna(test_data.customer_product_search_score.mode()[0], inplace =True)\n",
    "test_data.customer_stay_score.fillna(0,inplace = True)\n",
    "test_data.customer_product_variation_score.fillna(test_data.customer_product_variation_score.mode()[0], inplace =True)\n",
    "test_data.customer_order_score.fillna(test_data.customer_order_score.mode()[0], inplace =True)"
   ]
  },
  {
   "cell_type": "code",
   "execution_count": 68,
   "metadata": {},
   "outputs": [],
   "source": [
    "sc_xx = StandardScaler() \n",
    "x_train = sc_xx.fit_transform(X)  \n",
    "x_test = sc_xx.transform(test_data.iloc[:,1:8])"
   ]
  },
  {
   "cell_type": "code",
   "execution_count": 69,
   "metadata": {},
   "outputs": [
    {
     "data": {
      "text/plain": [
       "array([[-0.7942185 ,  2.19678779, -0.66015821, -0.42004483, -0.34631557,\n",
       "        -0.42210475, -0.5639886 ],\n",
       "       [-0.26525038,  1.08709806, -0.06065738, -0.38987048, -0.35642257,\n",
       "        -0.6197036 ,  1.00530101],\n",
       "       [-0.20967134, -0.05756678, -0.18562414, -0.09024679, -0.34976242,\n",
       "        -0.5115811 ,  0.70719724],\n",
       "       [ 1.66626239, -0.17590851, -0.52610487, -0.38806691, -0.28540965,\n",
       "        -0.28404684, -0.40193251],\n",
       "       [-0.96390154, -0.53243013,  0.03021989, -0.16396665, -0.39538852,\n",
       "        -0.9196372 ,  0.51608009]])"
      ]
     },
     "execution_count": 69,
     "metadata": {},
     "output_type": "execute_result"
    }
   ],
   "source": [
    "x_train[0:5, :]"
   ]
  },
  {
   "cell_type": "code",
   "execution_count": 70,
   "metadata": {},
   "outputs": [],
   "source": [
    "y_new_pred = classifier.predict(x_test)"
   ]
  },
  {
   "cell_type": "code",
   "execution_count": 73,
   "metadata": {},
   "outputs": [
    {
     "data": {
      "text/plain": [
       "array([0, 0, 0, ..., 0, 0, 1])"
      ]
     },
     "execution_count": 73,
     "metadata": {},
     "output_type": "execute_result"
    }
   ],
   "source": [
    "y_new_pred"
   ]
  },
  {
   "cell_type": "code",
   "execution_count": 77,
   "metadata": {},
   "outputs": [
    {
     "data": {
      "text/plain": [
       "325"
      ]
     },
     "execution_count": 77,
     "metadata": {},
     "output_type": "execute_result"
    }
   ],
   "source": [
    "np.count_nonzero(y_new_pred == 1, axis = 0)"
   ]
  },
  {
   "cell_type": "code",
   "execution_count": 82,
   "metadata": {},
   "outputs": [],
   "source": [
    "df = pd.DataFrame()  "
   ]
  },
  {
   "cell_type": "code",
   "execution_count": 83,
   "metadata": {},
   "outputs": [],
   "source": [
    "df['customer_id']=test_data['customer_id']"
   ]
  },
  {
   "cell_type": "code",
   "execution_count": 85,
   "metadata": {},
   "outputs": [],
   "source": [
    "df['customer_category'] = pd.Series(y_new_pred)"
   ]
  },
  {
   "cell_type": "markdown",
   "metadata": {},
   "source": [
    "### Final Data Frame"
   ]
  },
  {
   "cell_type": "code",
   "execution_count": 86,
   "metadata": {},
   "outputs": [
    {
     "data": {
      "text/html": [
       "<div>\n",
       "<style scoped>\n",
       "    .dataframe tbody tr th:only-of-type {\n",
       "        vertical-align: middle;\n",
       "    }\n",
       "\n",
       "    .dataframe tbody tr th {\n",
       "        vertical-align: top;\n",
       "    }\n",
       "\n",
       "    .dataframe thead th {\n",
       "        text-align: right;\n",
       "    }\n",
       "</style>\n",
       "<table border=\"1\" class=\"dataframe\">\n",
       "  <thead>\n",
       "    <tr style=\"text-align: right;\">\n",
       "      <th></th>\n",
       "      <th>customer_id</th>\n",
       "      <th>customer_category</th>\n",
       "    </tr>\n",
       "  </thead>\n",
       "  <tbody>\n",
       "    <tr>\n",
       "      <th>0</th>\n",
       "      <td>csid_10739</td>\n",
       "      <td>0</td>\n",
       "    </tr>\n",
       "    <tr>\n",
       "      <th>1</th>\n",
       "      <td>csid_10740</td>\n",
       "      <td>0</td>\n",
       "    </tr>\n",
       "    <tr>\n",
       "      <th>2</th>\n",
       "      <td>csid_10741</td>\n",
       "      <td>0</td>\n",
       "    </tr>\n",
       "    <tr>\n",
       "      <th>3</th>\n",
       "      <td>csid_10742</td>\n",
       "      <td>0</td>\n",
       "    </tr>\n",
       "    <tr>\n",
       "      <th>4</th>\n",
       "      <td>csid_10743</td>\n",
       "      <td>0</td>\n",
       "    </tr>\n",
       "    <tr>\n",
       "      <th>...</th>\n",
       "      <td>...</td>\n",
       "      <td>...</td>\n",
       "    </tr>\n",
       "    <tr>\n",
       "      <th>7155</th>\n",
       "      <td>csid_17894</td>\n",
       "      <td>0</td>\n",
       "    </tr>\n",
       "    <tr>\n",
       "      <th>7156</th>\n",
       "      <td>csid_17895</td>\n",
       "      <td>0</td>\n",
       "    </tr>\n",
       "    <tr>\n",
       "      <th>7157</th>\n",
       "      <td>csid_17896</td>\n",
       "      <td>0</td>\n",
       "    </tr>\n",
       "    <tr>\n",
       "      <th>7158</th>\n",
       "      <td>csid_17897</td>\n",
       "      <td>0</td>\n",
       "    </tr>\n",
       "    <tr>\n",
       "      <th>7159</th>\n",
       "      <td>csid_17898</td>\n",
       "      <td>1</td>\n",
       "    </tr>\n",
       "  </tbody>\n",
       "</table>\n",
       "<p>7160 rows × 2 columns</p>\n",
       "</div>"
      ],
      "text/plain": [
       "     customer_id  customer_category\n",
       "0     csid_10739                  0\n",
       "1     csid_10740                  0\n",
       "2     csid_10741                  0\n",
       "3     csid_10742                  0\n",
       "4     csid_10743                  0\n",
       "...          ...                ...\n",
       "7155  csid_17894                  0\n",
       "7156  csid_17895                  0\n",
       "7157  csid_17896                  0\n",
       "7158  csid_17897                  0\n",
       "7159  csid_17898                  1\n",
       "\n",
       "[7160 rows x 2 columns]"
      ]
     },
     "execution_count": 86,
     "metadata": {},
     "output_type": "execute_result"
    }
   ],
   "source": [
    "df"
   ]
  },
  {
   "cell_type": "code",
   "execution_count": 89,
   "metadata": {},
   "outputs": [
    {
     "data": {
      "text/plain": [
       "0    6835\n",
       "1     325\n",
       "Name: customer_category, dtype: int64"
      ]
     },
     "execution_count": 89,
     "metadata": {},
     "output_type": "execute_result"
    }
   ],
   "source": [
    "df.customer_category.value_counts()"
   ]
  },
  {
   "cell_type": "markdown",
   "metadata": {},
   "source": [
    "### Export to CSV file"
   ]
  },
  {
   "cell_type": "code",
   "execution_count": 91,
   "metadata": {},
   "outputs": [],
   "source": [
    "df.to_csv(\"//Users//iknott//Desktop//Hiring//data//Upload your Prediction File.csv\", index =False)"
   ]
  },
  {
   "cell_type": "code",
   "execution_count": null,
   "metadata": {},
   "outputs": [],
   "source": []
  }
 ],
 "metadata": {
  "kernelspec": {
   "display_name": "Python 3",
   "language": "python",
   "name": "python3"
  },
  "language_info": {
   "codemirror_mode": {
    "name": "ipython",
    "version": 3
   },
   "file_extension": ".py",
   "mimetype": "text/x-python",
   "name": "python",
   "nbconvert_exporter": "python",
   "pygments_lexer": "ipython3",
   "version": "3.7.6"
  }
 },
 "nbformat": 4,
 "nbformat_minor": 4
}
